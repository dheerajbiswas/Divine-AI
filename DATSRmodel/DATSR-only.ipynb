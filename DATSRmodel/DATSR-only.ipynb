{
 "cells": [
  {
   "cell_type": "code",
   "execution_count": 1,
   "id": "4b8ce43e-e218-43fe-9011-ef7041936a7c",
   "metadata": {},
   "outputs": [
    {
     "ename": "ModuleNotFoundError",
     "evalue": "No module named 'mmcv'",
     "output_type": "error",
     "traceback": [
      "\u001b[1;31m---------------------------------------------------------------------------\u001b[0m",
      "\u001b[1;31mModuleNotFoundError\u001b[0m                       Traceback (most recent call last)",
      "Cell \u001b[1;32mIn[1], line 2\u001b[0m\n\u001b[0;32m      1\u001b[0m \u001b[38;5;28;01mimport\u001b[39;00m \u001b[38;5;21;01mdatsr\u001b[39;00m\n\u001b[1;32m----> 2\u001b[0m \u001b[38;5;28;01mimport\u001b[39;00m \u001b[38;5;21;01mmmcv\u001b[39;00m\n",
      "\u001b[1;31mModuleNotFoundError\u001b[0m: No module named 'mmcv'"
     ]
    }
   ],
   "source": [
    "import datsr"
   ]
  },
  {
   "cell_type": "code",
   "execution_count": 18,
   "id": "ce75fce4-9ffd-414a-8c57-0fbd3973051d",
   "metadata": {
    "scrolled": true
   },
   "outputs": [
    {
     "name": "stdout",
     "output_type": "stream",
     "text": [
      "Collecting mmcv==2.2.0\n",
      "  Downloading mmcv-2.2.0.tar.gz (479 kB)\n",
      "  Preparing metadata (setup.py): started\n",
      "  Preparing metadata (setup.py): finished with status 'done'\n",
      "Requirement already satisfied: addict in c:\\users\\dheer\\documents\\mlproject\\mlproject\\lib\\site-packages (from mmcv==2.2.0) (2.4.0)\n",
      "Collecting mmengine>=0.3.0 (from mmcv==2.2.0)\n",
      "  Using cached mmengine-0.10.5-py3-none-any.whl.metadata (20 kB)\n",
      "Requirement already satisfied: numpy in c:\\users\\dheer\\documents\\mlproject\\mlproject\\lib\\site-packages (from mmcv==2.2.0) (2.0.2)\n",
      "Collecting packaging (from mmcv==2.2.0)\n",
      "  Using cached packaging-24.1-py3-none-any.whl.metadata (3.2 kB)\n",
      "Requirement already satisfied: Pillow in c:\\users\\dheer\\documents\\mlproject\\mlproject\\lib\\site-packages (from mmcv==2.2.0) (11.0.0)\n",
      "Requirement already satisfied: pyyaml in c:\\users\\dheer\\documents\\mlproject\\mlproject\\lib\\site-packages (from mmcv==2.2.0) (6.0.2)\n",
      "Requirement already satisfied: yapf in c:\\users\\dheer\\documents\\mlproject\\mlproject\\lib\\site-packages (from mmcv==2.2.0) (0.40.2)\n",
      "Collecting regex (from mmcv==2.2.0)\n",
      "  Using cached regex-2024.9.11-cp39-cp39-win_amd64.whl.metadata (41 kB)\n",
      "Collecting matplotlib (from mmengine>=0.3.0->mmcv==2.2.0)\n",
      "  Using cached matplotlib-3.9.2-cp39-cp39-win_amd64.whl.metadata (11 kB)\n",
      "Collecting rich (from mmengine>=0.3.0->mmcv==2.2.0)\n",
      "  Using cached rich-13.9.2-py3-none-any.whl.metadata (18 kB)\n",
      "Collecting termcolor (from mmengine>=0.3.0->mmcv==2.2.0)\n",
      "  Using cached termcolor-2.5.0-py3-none-any.whl.metadata (6.1 kB)\n",
      "Requirement already satisfied: opencv-python>=3 in c:\\users\\dheer\\documents\\mlproject\\mlproject\\lib\\site-packages (from mmengine>=0.3.0->mmcv==2.2.0) (4.10.0.84)\n",
      "Requirement already satisfied: importlib-metadata>=6.6.0 in c:\\users\\dheer\\documents\\mlproject\\mlproject\\lib\\site-packages (from yapf->mmcv==2.2.0) (8.5.0)\n",
      "Requirement already satisfied: platformdirs>=3.5.1 in c:\\users\\dheer\\documents\\mlproject\\mlproject\\lib\\site-packages (from yapf->mmcv==2.2.0) (4.3.6)\n",
      "Requirement already satisfied: tomli>=2.0.1 in c:\\users\\dheer\\documents\\mlproject\\mlproject\\lib\\site-packages (from yapf->mmcv==2.2.0) (2.0.2)\n",
      "Requirement already satisfied: zipp>=3.20 in c:\\users\\dheer\\documents\\mlproject\\mlproject\\lib\\site-packages (from importlib-metadata>=6.6.0->yapf->mmcv==2.2.0) (3.20.2)\n",
      "Collecting contourpy>=1.0.1 (from matplotlib->mmengine>=0.3.0->mmcv==2.2.0)\n",
      "  Using cached contourpy-1.3.0-cp39-cp39-win_amd64.whl.metadata (5.4 kB)\n",
      "Collecting cycler>=0.10 (from matplotlib->mmengine>=0.3.0->mmcv==2.2.0)\n",
      "  Using cached cycler-0.12.1-py3-none-any.whl.metadata (3.8 kB)\n",
      "Collecting fonttools>=4.22.0 (from matplotlib->mmengine>=0.3.0->mmcv==2.2.0)\n",
      "  Using cached fonttools-4.54.1-cp39-cp39-win_amd64.whl.metadata (167 kB)\n",
      "Collecting kiwisolver>=1.3.1 (from matplotlib->mmengine>=0.3.0->mmcv==2.2.0)\n",
      "  Using cached kiwisolver-1.4.7-cp39-cp39-win_amd64.whl.metadata (6.4 kB)\n",
      "Collecting pyparsing>=2.3.1 (from matplotlib->mmengine>=0.3.0->mmcv==2.2.0)\n",
      "  Using cached pyparsing-3.2.0-py3-none-any.whl.metadata (5.0 kB)\n",
      "Collecting python-dateutil>=2.7 (from matplotlib->mmengine>=0.3.0->mmcv==2.2.0)\n",
      "  Using cached python_dateutil-2.9.0.post0-py2.py3-none-any.whl.metadata (8.4 kB)\n",
      "Collecting importlib-resources>=3.2.0 (from matplotlib->mmengine>=0.3.0->mmcv==2.2.0)\n",
      "  Using cached importlib_resources-6.4.5-py3-none-any.whl.metadata (4.0 kB)\n",
      "Collecting markdown-it-py>=2.2.0 (from rich->mmengine>=0.3.0->mmcv==2.2.0)\n",
      "  Using cached markdown_it_py-3.0.0-py3-none-any.whl.metadata (6.9 kB)\n",
      "Collecting pygments<3.0.0,>=2.13.0 (from rich->mmengine>=0.3.0->mmcv==2.2.0)\n",
      "  Using cached pygments-2.18.0-py3-none-any.whl.metadata (2.5 kB)\n",
      "Requirement already satisfied: typing-extensions<5.0,>=4.0.0 in c:\\users\\dheer\\documents\\mlproject\\mlproject\\lib\\site-packages (from rich->mmengine>=0.3.0->mmcv==2.2.0) (4.12.2)\n",
      "Collecting mdurl~=0.1 (from markdown-it-py>=2.2.0->rich->mmengine>=0.3.0->mmcv==2.2.0)\n",
      "  Using cached mdurl-0.1.2-py3-none-any.whl.metadata (1.6 kB)\n",
      "Collecting six>=1.5 (from python-dateutil>=2.7->matplotlib->mmengine>=0.3.0->mmcv==2.2.0)\n",
      "  Using cached six-1.16.0-py2.py3-none-any.whl.metadata (1.8 kB)\n",
      "Using cached mmengine-0.10.5-py3-none-any.whl (452 kB)\n",
      "Using cached packaging-24.1-py3-none-any.whl (53 kB)\n",
      "Using cached regex-2024.9.11-cp39-cp39-win_amd64.whl (274 kB)\n",
      "Using cached matplotlib-3.9.2-cp39-cp39-win_amd64.whl (7.8 MB)\n",
      "Using cached rich-13.9.2-py3-none-any.whl (242 kB)\n",
      "Using cached termcolor-2.5.0-py3-none-any.whl (7.8 kB)\n",
      "Using cached contourpy-1.3.0-cp39-cp39-win_amd64.whl (211 kB)\n",
      "Using cached cycler-0.12.1-py3-none-any.whl (8.3 kB)\n",
      "Using cached fonttools-4.54.1-cp39-cp39-win_amd64.whl (2.2 MB)\n",
      "Using cached importlib_resources-6.4.5-py3-none-any.whl (36 kB)\n",
      "Using cached kiwisolver-1.4.7-cp39-cp39-win_amd64.whl (55 kB)\n",
      "Using cached markdown_it_py-3.0.0-py3-none-any.whl (87 kB)\n",
      "Using cached pygments-2.18.0-py3-none-any.whl (1.2 MB)\n",
      "Using cached pyparsing-3.2.0-py3-none-any.whl (106 kB)\n",
      "Using cached python_dateutil-2.9.0.post0-py2.py3-none-any.whl (229 kB)\n",
      "Using cached mdurl-0.1.2-py3-none-any.whl (10.0 kB)\n",
      "Using cached six-1.16.0-py2.py3-none-any.whl (11 kB)\n",
      "Building wheels for collected packages: mmcv\n",
      "  Building wheel for mmcv (setup.py): started\n",
      "  Building wheel for mmcv (setup.py): still running...\n",
      "  Building wheel for mmcv (setup.py): still running...\n",
      "  Building wheel for mmcv (setup.py): still running...\n",
      "  Building wheel for mmcv (setup.py): still running...\n",
      "  Building wheel for mmcv (setup.py): still running...\n",
      "  Building wheel for mmcv (setup.py): still running...\n",
      "  Building wheel for mmcv (setup.py): still running...\n",
      "  Building wheel for mmcv (setup.py): still running...\n",
      "  Building wheel for mmcv (setup.py): still running...\n",
      "  Building wheel for mmcv (setup.py): still running...\n",
      "  Building wheel for mmcv (setup.py): finished with status 'done'\n",
      "  Created wheel for mmcv: filename=mmcv-2.2.0-cp39-cp39-win_amd64.whl size=1070609 sha256=0724906157a19d6495a0b1a483e2d87841ad5b39b457265f3801f58e35b85f45\n",
      "  Stored in directory: c:\\users\\dheer\\appdata\\local\\pip\\cache\\wheels\\d4\\4b\\87\\51dd18771b527fb1559f11f7153a5f056d5d872135a7dcb5f5\n",
      "Successfully built mmcv\n",
      "Installing collected packages: termcolor, six, regex, pyparsing, pygments, packaging, mdurl, kiwisolver, importlib-resources, fonttools, cycler, contourpy, python-dateutil, markdown-it-py, rich, matplotlib, mmengine, mmcv\n",
      "  Attempting uninstall: mmcv\n",
      "    Found existing installation: mmcv 1.0.3\n",
      "    Uninstalling mmcv-1.0.3:\n",
      "      Successfully uninstalled mmcv-1.0.3\n",
      "Successfully installed contourpy-1.3.0 cycler-0.12.1 fonttools-4.54.1 importlib-resources-6.4.5 kiwisolver-1.4.7 markdown-it-py-3.0.0 matplotlib-3.9.2 mdurl-0.1.2 mmcv-2.2.0 mmengine-0.10.5 packaging-24.1 pygments-2.18.0 pyparsing-3.2.0 python-dateutil-2.9.0.post0 regex-2024.9.11 rich-13.9.2 six-1.16.0 termcolor-2.5.0\n"
     ]
    }
   ],
   "source": [
    "!pip install mmcv==2.2.0"
   ]
  },
  {
   "cell_type": "code",
   "execution_count": 1,
   "id": "1594f253-c01a-4b64-81d1-708aa1442ec7",
   "metadata": {},
   "outputs": [
    {
     "name": "stderr",
     "output_type": "stream",
     "text": [
      "Traceback (most recent call last):\n",
      "  File \"C:\\Users\\dheer\\OneDrive\\Documents\\GitHub\\Divine-AI\\datsr\\test.py\", line 5, in <module>\n",
      "    from mmcv.runner import get_time_str, init_dist\n",
      "ModuleNotFoundError: No module named 'mmcv.runner'\n"
     ]
    }
   ],
   "source": [
    "!python datsr/test.py -opt \"options/test/test_restoration_mse.yml\""
   ]
  }
 ],
 "metadata": {
  "kernelspec": {
   "display_name": "Python 3 (ipykernel)",
   "language": "python",
   "name": "python3"
  },
  "language_info": {
   "codemirror_mode": {
    "name": "ipython",
    "version": 3
   },
   "file_extension": ".py",
   "mimetype": "text/x-python",
   "name": "python",
   "nbconvert_exporter": "python",
   "pygments_lexer": "ipython3",
   "version": "3.9.11"
  }
 },
 "nbformat": 4,
 "nbformat_minor": 5
}
