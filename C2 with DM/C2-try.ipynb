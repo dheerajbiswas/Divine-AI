{
  "nbformat": 4,
  "nbformat_minor": 0,
  "metadata": {
    "colab": {
      "provenance": [],
      "gpuType": "T4"
    },
    "kernelspec": {
      "name": "python3",
      "display_name": "Python 3"
    },
    "language_info": {
      "name": "python"
    },
    "accelerator": "GPU"
  },
  "cells": [
    {
      "cell_type": "code",
      "execution_count": 34,
      "metadata": {
        "colab": {
          "base_uri": "https://localhost:8080/"
        },
        "id": "MFXCkq0IJWqc",
        "outputId": "fccb6ddb-37ff-4026-875d-7466143cdda6"
      },
      "outputs": [
        {
          "output_type": "stream",
          "name": "stdout",
          "text": [
            "Cloning into 'P24EE005_Saransh_Chourey'...\n",
            "remote: Enumerating objects: 350, done.\u001b[K\n",
            "remote: Counting objects: 100% (350/350), done.\u001b[K\n",
            "remote: Compressing objects: 100% (336/336), done.\u001b[K\n",
            "remote: Total 350 (delta 15), reused 342 (delta 11), pack-reused 0 (from 0)\u001b[K\n",
            "Receiving objects: 100% (350/350), 30.83 MiB | 23.28 MiB/s, done.\n",
            "Resolving deltas: 100% (15/15), done.\n",
            "/P24EE005_Saransh_Chourey/P24EE005_Saransh_Chourey/P24EE005_Saransh_Chourey/P24EE005_Saransh_Chourey\n"
          ]
        }
      ],
      "source": [
        "!git clone https://github.com/schourey1999/P24EE005_Saransh_Chourey.git\n",
        "%cd P24EE005_Saransh_Chourey/"
      ]
    },
    {
      "cell_type": "code",
      "source": [
        "%cd P24EE005_Saransh_Chourey\n",
        "!conda install pytorch=1.4.0 torchvision cudatoolkit=10.0 -c pytorch\n",
        "!pip install mmcv==0.4.4\n",
        "!pip install -r requirements.txt"
      ],
      "metadata": {
        "colab": {
          "base_uri": "https://localhost:8080/"
        },
        "id": "_30WfMA-JhA4",
        "outputId": "33813172-723b-4fa7-9fa5-8563275cc744"
      },
      "execution_count": 35,
      "outputs": [
        {
          "output_type": "stream",
          "name": "stdout",
          "text": [
            "[Errno 2] No such file or directory: 'P24EE005_Saransh_Chourey'\n",
            "/P24EE005_Saransh_Chourey/P24EE005_Saransh_Chourey/P24EE005_Saransh_Chourey/P24EE005_Saransh_Chourey\n",
            "/bin/bash: line 1: conda: command not found\n",
            "Requirement already satisfied: mmcv==0.4.4 in /usr/local/lib/python3.10/dist-packages (0.4.4)\n",
            "Requirement already satisfied: addict in /usr/local/lib/python3.10/dist-packages (from mmcv==0.4.4) (2.4.0)\n",
            "Requirement already satisfied: numpy in /usr/local/lib/python3.10/dist-packages (from mmcv==0.4.4) (1.26.4)\n",
            "Requirement already satisfied: pyyaml in /usr/local/lib/python3.10/dist-packages (from mmcv==0.4.4) (6.0.2)\n",
            "Requirement already satisfied: opencv-python-headless>=3 in /usr/local/lib/python3.10/dist-packages (from mmcv==0.4.4) (4.10.0.84)\n",
            "Requirement already satisfied: mmcv>=0.4.4 in /usr/local/lib/python3.10/dist-packages (from -r requirements.txt (line 1)) (0.4.4)\n",
            "Requirement already satisfied: numpy in /usr/local/lib/python3.10/dist-packages (from -r requirements.txt (line 2)) (1.26.4)\n",
            "Requirement already satisfied: torch>=1.1 in /usr/local/lib/python3.10/dist-packages (from -r requirements.txt (line 3)) (2.4.1)\n",
            "Requirement already satisfied: torchvision in /usr/local/lib/python3.10/dist-packages (from -r requirements.txt (line 4)) (0.19.1)\n",
            "Requirement already satisfied: addict in /usr/local/lib/python3.10/dist-packages (from mmcv>=0.4.4->-r requirements.txt (line 1)) (2.4.0)\n",
            "Requirement already satisfied: pyyaml in /usr/local/lib/python3.10/dist-packages (from mmcv>=0.4.4->-r requirements.txt (line 1)) (6.0.2)\n",
            "Requirement already satisfied: opencv-python-headless>=3 in /usr/local/lib/python3.10/dist-packages (from mmcv>=0.4.4->-r requirements.txt (line 1)) (4.10.0.84)\n",
            "Requirement already satisfied: filelock in /usr/local/lib/python3.10/dist-packages (from torch>=1.1->-r requirements.txt (line 3)) (3.16.1)\n",
            "Requirement already satisfied: typing-extensions>=4.8.0 in /usr/local/lib/python3.10/dist-packages (from torch>=1.1->-r requirements.txt (line 3)) (4.12.2)\n",
            "Requirement already satisfied: sympy in /usr/local/lib/python3.10/dist-packages (from torch>=1.1->-r requirements.txt (line 3)) (1.13.3)\n",
            "Requirement already satisfied: networkx in /usr/local/lib/python3.10/dist-packages (from torch>=1.1->-r requirements.txt (line 3)) (3.4)\n",
            "Requirement already satisfied: jinja2 in /usr/local/lib/python3.10/dist-packages (from torch>=1.1->-r requirements.txt (line 3)) (3.1.4)\n",
            "Requirement already satisfied: fsspec in /usr/local/lib/python3.10/dist-packages (from torch>=1.1->-r requirements.txt (line 3)) (2024.6.1)\n",
            "Requirement already satisfied: nvidia-cuda-nvrtc-cu12==12.1.105 in /usr/local/lib/python3.10/dist-packages (from torch>=1.1->-r requirements.txt (line 3)) (12.1.105)\n",
            "Requirement already satisfied: nvidia-cuda-runtime-cu12==12.1.105 in /usr/local/lib/python3.10/dist-packages (from torch>=1.1->-r requirements.txt (line 3)) (12.1.105)\n",
            "Requirement already satisfied: nvidia-cuda-cupti-cu12==12.1.105 in /usr/local/lib/python3.10/dist-packages (from torch>=1.1->-r requirements.txt (line 3)) (12.1.105)\n",
            "Requirement already satisfied: nvidia-cudnn-cu12==9.1.0.70 in /usr/local/lib/python3.10/dist-packages (from torch>=1.1->-r requirements.txt (line 3)) (9.1.0.70)\n",
            "Requirement already satisfied: nvidia-cublas-cu12==12.1.3.1 in /usr/local/lib/python3.10/dist-packages (from torch>=1.1->-r requirements.txt (line 3)) (12.1.3.1)\n",
            "Requirement already satisfied: nvidia-cufft-cu12==11.0.2.54 in /usr/local/lib/python3.10/dist-packages (from torch>=1.1->-r requirements.txt (line 3)) (11.0.2.54)\n",
            "Requirement already satisfied: nvidia-curand-cu12==10.3.2.106 in /usr/local/lib/python3.10/dist-packages (from torch>=1.1->-r requirements.txt (line 3)) (10.3.2.106)\n",
            "Requirement already satisfied: nvidia-cusolver-cu12==11.4.5.107 in /usr/local/lib/python3.10/dist-packages (from torch>=1.1->-r requirements.txt (line 3)) (11.4.5.107)\n",
            "Requirement already satisfied: nvidia-cusparse-cu12==12.1.0.106 in /usr/local/lib/python3.10/dist-packages (from torch>=1.1->-r requirements.txt (line 3)) (12.1.0.106)\n",
            "Requirement already satisfied: nvidia-nccl-cu12==2.20.5 in /usr/local/lib/python3.10/dist-packages (from torch>=1.1->-r requirements.txt (line 3)) (2.20.5)\n",
            "Requirement already satisfied: nvidia-nvtx-cu12==12.1.105 in /usr/local/lib/python3.10/dist-packages (from torch>=1.1->-r requirements.txt (line 3)) (12.1.105)\n",
            "Requirement already satisfied: triton==3.0.0 in /usr/local/lib/python3.10/dist-packages (from torch>=1.1->-r requirements.txt (line 3)) (3.0.0)\n",
            "Requirement already satisfied: nvidia-nvjitlink-cu12 in /usr/local/lib/python3.10/dist-packages (from nvidia-cusolver-cu12==11.4.5.107->torch>=1.1->-r requirements.txt (line 3)) (12.6.77)\n",
            "Requirement already satisfied: pillow!=8.3.*,>=5.3.0 in /usr/local/lib/python3.10/dist-packages (from torchvision->-r requirements.txt (line 4)) (10.4.0)\n",
            "Requirement already satisfied: MarkupSafe>=2.0 in /usr/local/lib/python3.10/dist-packages (from jinja2->torch>=1.1->-r requirements.txt (line 3)) (3.0.1)\n",
            "Requirement already satisfied: mpmath<1.4,>=1.1.0 in /usr/local/lib/python3.10/dist-packages (from sympy->torch>=1.1->-r requirements.txt (line 3)) (1.3.0)\n"
          ]
        }
      ]
    },
    {
      "cell_type": "code",
      "source": [
        "#!apt-get update\n",
        "#!apt-get install cuda-10-0\n",
        "#!nvcc --version"
      ],
      "metadata": {
        "colab": {
          "base_uri": "https://localhost:8080/"
        },
        "id": "-130-tr1RkEx",
        "outputId": "fcde5d30-b988-4e2b-d1b2-82a00b9475d6"
      },
      "execution_count": 33,
      "outputs": [
        {
          "output_type": "stream",
          "name": "stdout",
          "text": [
            "\r0% [Working]\r            \rHit:1 https://cloud.r-project.org/bin/linux/ubuntu jammy-cran40/ InRelease\n",
            "Hit:2 https://developer.download.nvidia.com/compute/cuda/repos/ubuntu2204/x86_64  InRelease\n",
            "Ign:3 https://r2u.stat.illinois.edu/ubuntu jammy InRelease\n",
            "Hit:4 https://r2u.stat.illinois.edu/ubuntu jammy Release\n",
            "Get:6 http://security.ubuntu.com/ubuntu jammy-security InRelease [129 kB]\n",
            "Hit:7 https://ppa.launchpadcontent.net/deadsnakes/ppa/ubuntu jammy InRelease\n",
            "Hit:8 https://ppa.launchpadcontent.net/graphics-drivers/ppa/ubuntu jammy InRelease\n",
            "Hit:9 https://ppa.launchpadcontent.net/ubuntugis/ppa/ubuntu jammy InRelease\n",
            "Hit:10 http://archive.ubuntu.com/ubuntu jammy InRelease\n",
            "Get:11 http://archive.ubuntu.com/ubuntu jammy-updates InRelease [128 kB]\n",
            "Hit:12 http://archive.ubuntu.com/ubuntu jammy-backports InRelease\n",
            "Get:13 http://archive.ubuntu.com/ubuntu jammy-updates/universe amd64 Packages [1,451 kB]\n",
            "Get:14 http://archive.ubuntu.com/ubuntu jammy-updates/main amd64 Packages [2,648 kB]\n",
            "Fetched 4,356 kB in 40s (109 kB/s)\n",
            "Reading package lists... Done\n",
            "W: Skipping acquire of configured file 'main/source/Sources' as repository 'https://r2u.stat.illinois.edu/ubuntu jammy InRelease' does not seem to provide it (sources.list entry misspelt?)\n",
            "Reading package lists... Done\n",
            "Building dependency tree... Done\n",
            "Reading state information... Done\n",
            "E: Unable to locate package cuda-10-0\n",
            "nvcc: NVIDIA (R) Cuda compiler driver\n",
            "Copyright (c) 2005-2023 NVIDIA Corporation\n",
            "Built on Tue_Aug_15_22:02:13_PDT_2023\n",
            "Cuda compilation tools, release 12.2, V12.2.140\n",
            "Build cuda_12.2.r12.2/compiler.33191640_0\n"
          ]
        }
      ]
    },
    {
      "cell_type": "code",
      "source": [
        "!python setup.py develop\n",
        "%cd mmsr/models/archs/DCNv2/\n",
        "!python setup.py build develop\n",
        "#%cd ../../../../"
      ],
      "metadata": {
        "colab": {
          "base_uri": "https://localhost:8080/"
        },
        "id": "vzCAGzUPJn0y",
        "outputId": "0da7a088-8eda-4b42-bb68-2d5d09a3e14c"
      },
      "execution_count": 37,
      "outputs": [
        {
          "output_type": "stream",
          "name": "stdout",
          "text": [
            "/usr/local/lib/python3.10/dist-packages/setuptools/__init__.py:85: _DeprecatedInstaller: setuptools.installer and fetch_build_eggs are deprecated.\n",
            "!!\n",
            "\n",
            "        ********************************************************************************\n",
            "        Requirements should be satisfied by a PEP 517 installer.\n",
            "        If you are using pip, you can try `pip install --use-pep517`.\n",
            "        ********************************************************************************\n",
            "\n",
            "!!\n",
            "  dist.fetch_build_eggs(dist.setup_requires)\n",
            "running develop\n",
            "/usr/local/lib/python3.10/dist-packages/setuptools/command/develop.py:42: EasyInstallDeprecationWarning: easy_install command is deprecated.\n",
            "!!\n",
            "\n",
            "        ********************************************************************************\n",
            "        Please avoid running ``setup.py`` and ``easy_install``.\n",
            "        Instead, use pypa/build, pypa/installer or other\n",
            "        standards-based tools.\n",
            "\n",
            "        See https://github.com/pypa/setuptools/issues/917 for details.\n",
            "        ********************************************************************************\n",
            "\n",
            "!!\n",
            "  easy_install.initialize_options(self)\n",
            "/usr/local/lib/python3.10/dist-packages/setuptools/_distutils/cmd.py:66: SetuptoolsDeprecationWarning: setup.py install is deprecated.\n",
            "!!\n",
            "\n",
            "        ********************************************************************************\n",
            "        Please avoid running ``setup.py`` directly.\n",
            "        Instead, use pypa/build, pypa/installer or other\n",
            "        standards-based tools.\n",
            "\n",
            "        See https://blog.ganssle.io/articles/2021/10/setup-py-deprecated.html for details.\n",
            "        ********************************************************************************\n",
            "\n",
            "!!\n",
            "  self.initialize_options()\n",
            "running egg_info\n",
            "writing mmsr.egg-info/PKG-INFO\n",
            "writing dependency_links to mmsr.egg-info/dependency_links.txt\n",
            "writing requirements to mmsr.egg-info/requires.txt\n",
            "writing top-level names to mmsr.egg-info/top_level.txt\n",
            "/usr/local/lib/python3.10/dist-packages/torch/utils/cpp_extension.py:495: UserWarning: Attempted to use ninja as the BuildExtension backend but we could not find ninja.. Falling back to using the slow distutils backend.\n",
            "  warnings.warn(msg.format('we could not find ninja.'))\n",
            "reading manifest file 'mmsr.egg-info/SOURCES.txt'\n",
            "adding license file 'LICENSE'\n",
            "writing manifest file 'mmsr.egg-info/SOURCES.txt'\n",
            "running build_ext\n",
            "/usr/local/lib/python3.10/dist-packages/torch/utils/cpp_extension.py:414: UserWarning: The detected CUDA version (12.2) has a minor version mismatch with the version that was used to compile PyTorch (12.1). Most likely this shouldn't be a problem.\n",
            "  warnings.warn(CUDA_MISMATCH_WARN.format(cuda_str_version, torch.version.cuda))\n",
            "/usr/local/lib/python3.10/dist-packages/torch/utils/cpp_extension.py:424: UserWarning: There are no x86_64-linux-gnu-g++ version bounds defined for CUDA version 12.2\n",
            "  warnings.warn(f'There are no {compiler_name} version bounds defined for CUDA version {cuda_str_version}')\n",
            "building 'mmsr.models.archs.dcn.deform_conv_cuda' extension\n",
            "x86_64-linux-gnu-gcc -Wno-unused-result -Wsign-compare -DNDEBUG -g -fwrapv -O2 -Wall -g -fstack-protector-strong -Wformat -Werror=format-security -g -fwrapv -O2 -fPIC -DWITH_CUDA -I/usr/local/lib/python3.10/dist-packages/torch/include -I/usr/local/lib/python3.10/dist-packages/torch/include/torch/csrc/api/include -I/usr/local/lib/python3.10/dist-packages/torch/include/TH -I/usr/local/lib/python3.10/dist-packages/torch/include/THC -I/usr/local/cuda/include -I/usr/include/python3.10 -c mmsr/models/archs/dcn/src/deform_conv_cuda.cpp -o build/temp.linux-x86_64-cpython-310/mmsr/models/archs/dcn/src/deform_conv_cuda.o -DTORCH_API_INCLUDE_EXTENSION_H -DPYBIND11_COMPILER_TYPE=\\\"_gcc\\\" -DPYBIND11_STDLIB=\\\"_libstdcpp\\\" -DPYBIND11_BUILD_ABI=\\\"_cxxabi1011\\\" -DTORCH_EXTENSION_NAME=deform_conv_cuda -D_GLIBCXX_USE_CXX11_ABI=0 -std=c++17\n",
            "\u001b[01m\u001b[Kmmsr/models/archs/dcn/src/deform_conv_cuda.cpp:\u001b[m\u001b[K In function ‘\u001b[01m\u001b[Kvoid shape_check(at::Tensor, at::Tensor, at::Tensor*, at::Tensor, int, int, int, int, int, int, int, int, int, int)\u001b[m\u001b[K’:\n",
            "\u001b[01m\u001b[Kmmsr/models/archs/dcn/src/deform_conv_cuda.cpp:65:3:\u001b[m\u001b[K \u001b[01;31m\u001b[Kerror: \u001b[m\u001b[K‘\u001b[01m\u001b[KAT_CHECK\u001b[m\u001b[K’ was not declared in this scope; did you mean ‘\u001b[01m\u001b[KDCHECK\u001b[m\u001b[K’?\n",
            "   65 |   \u001b[01;31m\u001b[KAT_CHECK\u001b[m\u001b[K(weight.ndimension() == 4,\n",
            "      |   \u001b[01;31m\u001b[K^~~~~~~~\u001b[m\u001b[K\n",
            "      |   \u001b[32m\u001b[KDCHECK\u001b[m\u001b[K\n",
            "\u001b[01m\u001b[Kmmsr/models/archs/dcn/src/deform_conv_cuda.cpp:\u001b[m\u001b[K In function ‘\u001b[01m\u001b[Kint deform_conv_forward_cuda(at::Tensor, at::Tensor, at::Tensor, at::Tensor, at::Tensor, at::Tensor, int, int, int, int, int, int, int, int, int, int, int)\u001b[m\u001b[K’:\n",
            "\u001b[01m\u001b[Kmmsr/models/archs/dcn/src/deform_conv_cuda.cpp:192:3:\u001b[m\u001b[K \u001b[01;31m\u001b[Kerror: \u001b[m\u001b[K‘\u001b[01m\u001b[KAT_CHECK\u001b[m\u001b[K’ was not declared in this scope; did you mean ‘\u001b[01m\u001b[KDCHECK\u001b[m\u001b[K’?\n",
            "  192 |   \u001b[01;31m\u001b[KAT_CHECK\u001b[m\u001b[K((offset.size(0) == batchSize), \"invalid batch size of offset\");\n",
            "      |   \u001b[01;31m\u001b[K^~~~~~~~\u001b[m\u001b[K\n",
            "      |   \u001b[32m\u001b[KDCHECK\u001b[m\u001b[K\n",
            "\u001b[01m\u001b[Kmmsr/models/archs/dcn/src/deform_conv_cuda.cpp:\u001b[m\u001b[K In function ‘\u001b[01m\u001b[Kint deform_conv_backward_input_cuda(at::Tensor, at::Tensor, at::Tensor, at::Tensor, at::Tensor, at::Tensor, at::Tensor, int, int, int, int, int, int, int, int, int, int, int)\u001b[m\u001b[K’:\n",
            "\u001b[01m\u001b[Kmmsr/models/archs/dcn/src/deform_conv_cuda.cpp:298:3:\u001b[m\u001b[K \u001b[01;31m\u001b[Kerror: \u001b[m\u001b[K‘\u001b[01m\u001b[KAT_CHECK\u001b[m\u001b[K’ was not declared in this scope; did you mean ‘\u001b[01m\u001b[KDCHECK\u001b[m\u001b[K’?\n",
            "  298 |   \u001b[01;31m\u001b[KAT_CHECK\u001b[m\u001b[K((offset.size(0) == batchSize), 3, \"invalid batch size of offset\");\n",
            "      |   \u001b[01;31m\u001b[K^~~~~~~~\u001b[m\u001b[K\n",
            "      |   \u001b[32m\u001b[KDCHECK\u001b[m\u001b[K\n",
            "\u001b[01m\u001b[Kmmsr/models/archs/dcn/src/deform_conv_cuda.cpp:\u001b[m\u001b[K In function ‘\u001b[01m\u001b[Kint deform_conv_backward_parameters_cuda(at::Tensor, at::Tensor, at::Tensor, at::Tensor, at::Tensor, at::Tensor, int, int, int, int, int, int, int, int, int, int, float, int)\u001b[m\u001b[K’:\n",
            "\u001b[01m\u001b[Kmmsr/models/archs/dcn/src/deform_conv_cuda.cpp:413:3:\u001b[m\u001b[K \u001b[01;31m\u001b[Kerror: \u001b[m\u001b[K‘\u001b[01m\u001b[KAT_CHECK\u001b[m\u001b[K’ was not declared in this scope; did you mean ‘\u001b[01m\u001b[KDCHECK\u001b[m\u001b[K’?\n",
            "  413 |   \u001b[01;31m\u001b[KAT_CHECK\u001b[m\u001b[K((offset.size(0) == batchSize), \"invalid batch size of offset\");\n",
            "      |   \u001b[01;31m\u001b[K^~~~~~~~\u001b[m\u001b[K\n",
            "      |   \u001b[32m\u001b[KDCHECK\u001b[m\u001b[K\n",
            "\u001b[01m\u001b[Kmmsr/models/archs/dcn/src/deform_conv_cuda.cpp:\u001b[m\u001b[K In function ‘\u001b[01m\u001b[Kvoid modulated_deform_conv_cuda_forward(at::Tensor, at::Tensor, at::Tensor, at::Tensor, at::Tensor, at::Tensor, at::Tensor, at::Tensor, int, int, int, int, int, int, int, int, int, int, bool)\u001b[m\u001b[K’:\n",
            "\u001b[01m\u001b[Kmmsr/models/archs/dcn/src/deform_conv_cuda.cpp:493:3:\u001b[m\u001b[K \u001b[01;31m\u001b[Kerror: \u001b[m\u001b[K‘\u001b[01m\u001b[KAT_CHECK\u001b[m\u001b[K’ was not declared in this scope; did you mean ‘\u001b[01m\u001b[KDCHECK\u001b[m\u001b[K’?\n",
            "  493 |   \u001b[01;31m\u001b[KAT_CHECK\u001b[m\u001b[K(input.is_contiguous(), \"input tensor has to be contiguous\");\n",
            "      |   \u001b[01;31m\u001b[K^~~~~~~~\u001b[m\u001b[K\n",
            "      |   \u001b[32m\u001b[KDCHECK\u001b[m\u001b[K\n",
            "\u001b[01m\u001b[Kmmsr/models/archs/dcn/src/deform_conv_cuda.cpp:\u001b[m\u001b[K In function ‘\u001b[01m\u001b[Kvoid modulated_deform_conv_cuda_backward(at::Tensor, at::Tensor, at::Tensor, at::Tensor, at::Tensor, at::Tensor, at::Tensor, at::Tensor, at::Tensor, at::Tensor, at::Tensor, at::Tensor, at::Tensor, int, int, int, int, int, int, int, int, int, int, bool)\u001b[m\u001b[K’:\n",
            "\u001b[01m\u001b[Kmmsr/models/archs/dcn/src/deform_conv_cuda.cpp:574:3:\u001b[m\u001b[K \u001b[01;31m\u001b[Kerror: \u001b[m\u001b[K‘\u001b[01m\u001b[KAT_CHECK\u001b[m\u001b[K’ was not declared in this scope; did you mean ‘\u001b[01m\u001b[KDCHECK\u001b[m\u001b[K’?\n",
            "  574 |   \u001b[01;31m\u001b[KAT_CHECK\u001b[m\u001b[K(input.is_contiguous(), \"input tensor has to be contiguous\");\n",
            "      |   \u001b[01;31m\u001b[K^~~~~~~~\u001b[m\u001b[K\n",
            "      |   \u001b[32m\u001b[KDCHECK\u001b[m\u001b[K\n",
            "error: command '/usr/bin/x86_64-linux-gnu-gcc' failed with exit code 1\n",
            "/P24EE005_Saransh_Chourey/P24EE005_Saransh_Chourey/P24EE005_Saransh_Chourey/P24EE005_Saransh_Chourey/mmsr/models/archs/DCNv2\n",
            "running build\n",
            "running build_ext\n",
            "/usr/local/lib/python3.10/dist-packages/torch/utils/cpp_extension.py:495: UserWarning: Attempted to use ninja as the BuildExtension backend but we could not find ninja.. Falling back to using the slow distutils backend.\n",
            "  warnings.warn(msg.format('we could not find ninja.'))\n",
            "/usr/local/lib/python3.10/dist-packages/torch/utils/cpp_extension.py:414: UserWarning: The detected CUDA version (12.2) has a minor version mismatch with the version that was used to compile PyTorch (12.1). Most likely this shouldn't be a problem.\n",
            "  warnings.warn(CUDA_MISMATCH_WARN.format(cuda_str_version, torch.version.cuda))\n",
            "/usr/local/lib/python3.10/dist-packages/torch/utils/cpp_extension.py:424: UserWarning: There are no x86_64-linux-gnu-g++ version bounds defined for CUDA version 12.2\n",
            "  warnings.warn(f'There are no {compiler_name} version bounds defined for CUDA version {cuda_str_version}')\n",
            "building '_ext' extension\n",
            "x86_64-linux-gnu-gcc -Wno-unused-result -Wsign-compare -DNDEBUG -g -fwrapv -O2 -Wall -g -fstack-protector-strong -Wformat -Werror=format-security -g -fwrapv -O2 -fPIC -DWITH_CUDA -I/P24EE005_Saransh_Chourey/P24EE005_Saransh_Chourey/P24EE005_Saransh_Chourey/P24EE005_Saransh_Chourey/mmsr/models/archs/DCNv2/src -I/usr/local/lib/python3.10/dist-packages/torch/include -I/usr/local/lib/python3.10/dist-packages/torch/include/torch/csrc/api/include -I/usr/local/lib/python3.10/dist-packages/torch/include/TH -I/usr/local/lib/python3.10/dist-packages/torch/include/THC -I/usr/local/cuda/include -I/usr/include/python3.10 -c /P24EE005_Saransh_Chourey/P24EE005_Saransh_Chourey/P24EE005_Saransh_Chourey/P24EE005_Saransh_Chourey/mmsr/models/archs/DCNv2/src/cpu/dcn_v2_cpu.cpp -o build/temp.linux-x86_64-cpython-310/P24EE005_Saransh_Chourey/P24EE005_Saransh_Chourey/P24EE005_Saransh_Chourey/P24EE005_Saransh_Chourey/mmsr/models/archs/DCNv2/src/cpu/dcn_v2_cpu.o -DTORCH_API_INCLUDE_EXTENSION_H -DPYBIND11_COMPILER_TYPE=\\\"_gcc\\\" -DPYBIND11_STDLIB=\\\"_libstdcpp\\\" -DPYBIND11_BUILD_ABI=\\\"_cxxabi1011\\\" -DTORCH_EXTENSION_NAME=_ext -D_GLIBCXX_USE_CXX11_ABI=0 -std=c++17\n",
            "/usr/local/lib/python3.10/dist-packages/torch/utils/cpp_extension.py:1965: UserWarning: TORCH_CUDA_ARCH_LIST is not set, all archs for visible cards are included for compilation. \n",
            "If this is not desired, please set os.environ['TORCH_CUDA_ARCH_LIST'].\n",
            "  warnings.warn(\n",
            "/usr/local/cuda/bin/nvcc -DWITH_CUDA -I/P24EE005_Saransh_Chourey/P24EE005_Saransh_Chourey/P24EE005_Saransh_Chourey/P24EE005_Saransh_Chourey/mmsr/models/archs/DCNv2/src -I/usr/local/lib/python3.10/dist-packages/torch/include -I/usr/local/lib/python3.10/dist-packages/torch/include/torch/csrc/api/include -I/usr/local/lib/python3.10/dist-packages/torch/include/TH -I/usr/local/lib/python3.10/dist-packages/torch/include/THC -I/usr/local/cuda/include -I/usr/include/python3.10 -c /P24EE005_Saransh_Chourey/P24EE005_Saransh_Chourey/P24EE005_Saransh_Chourey/P24EE005_Saransh_Chourey/mmsr/models/archs/DCNv2/src/cuda/dcn_v2_cuda.cu -o build/temp.linux-x86_64-cpython-310/P24EE005_Saransh_Chourey/P24EE005_Saransh_Chourey/P24EE005_Saransh_Chourey/P24EE005_Saransh_Chourey/mmsr/models/archs/DCNv2/src/cuda/dcn_v2_cuda.o -D__CUDA_NO_HALF_OPERATORS__ -D__CUDA_NO_HALF_CONVERSIONS__ -D__CUDA_NO_BFLOAT16_CONVERSIONS__ -D__CUDA_NO_HALF2_OPERATORS__ --expt-relaxed-constexpr --compiler-options '-fPIC' -DCUDA_HAS_FP16=1 -D__CUDA_NO_HALF_OPERATORS__ -D__CUDA_NO_HALF_CONVERSIONS__ -D__CUDA_NO_HALF2_OPERATORS__ -DTORCH_API_INCLUDE_EXTENSION_H -DPYBIND11_COMPILER_TYPE=\\\"_gcc\\\" -DPYBIND11_STDLIB=\\\"_libstdcpp\\\" -DPYBIND11_BUILD_ABI=\\\"_cxxabi1011\\\" -DTORCH_EXTENSION_NAME=_ext -D_GLIBCXX_USE_CXX11_ABI=0 -gencode=arch=compute_75,code=compute_75 -gencode=arch=compute_75,code=sm_75 -std=c++17\n",
            "\u001b[01m\u001b[K/P24EE005_Saransh_Chourey/P24EE005_Saransh_Chourey/P24EE005_Saransh_Chourey/P24EE005_Saransh_Chourey/mmsr/models/archs/DCNv2/src/cuda/dcn_v2_cuda.cu:7:10:\u001b[m\u001b[K \u001b[01;31m\u001b[Kfatal error: \u001b[m\u001b[KTHC/THC.h: No such file or directory\n",
            "    7 | #include \u001b[01;31m\u001b[K<THC/THC.h>\u001b[m\u001b[K\n",
            "      |          \u001b[01;31m\u001b[K^~~~~~~~~~~\u001b[m\u001b[K\n",
            "compilation terminated.\n",
            "error: command '/usr/local/cuda/bin/nvcc' failed with exit code 1\n"
          ]
        }
      ]
    },
    {
      "cell_type": "code",
      "source": [
        "from google.colab import drive\n",
        "drive.mount('/content/drive')"
      ],
      "metadata": {
        "colab": {
          "base_uri": "https://localhost:8080/"
        },
        "id": "PuhnECufL8yt",
        "outputId": "53c94293-6255-4ed5-fb46-4fbdcc7f484b"
      },
      "execution_count": 39,
      "outputs": [
        {
          "output_type": "stream",
          "name": "stdout",
          "text": [
            "Drive already mounted at /content/drive; to attempt to forcibly remount, call drive.mount(\"/content/drive\", force_remount=True).\n"
          ]
        }
      ]
    },
    {
      "cell_type": "code",
      "source": [
        "dataset_path = '/content/drive/MyDrive/datasets/'"
      ],
      "metadata": {
        "id": "WKh2DcBUMFF_"
      },
      "execution_count": 40,
      "outputs": []
    },
    {
      "cell_type": "code",
      "source": [
        "!python mmsr/train.py -opt options/train/stage1_teacher_contras_network.yml"
      ],
      "metadata": {
        "colab": {
          "base_uri": "https://localhost:8080/"
        },
        "id": "5_xX4rOiMIdY",
        "outputId": "5eb7db18-ba4d-4141-bdc5-c518c51409e0"
      },
      "execution_count": 41,
      "outputs": [
        {
          "output_type": "stream",
          "name": "stdout",
          "text": [
            "python3: can't open file '/P24EE005_Saransh_Chourey/P24EE005_Saransh_Chourey/P24EE005_Saransh_Chourey/P24EE005_Saransh_Chourey/mmsr/models/archs/DCNv2/mmsr/train.py': [Errno 2] No such file or directory\n"
          ]
        }
      ]
    },
    {
      "cell_type": "code",
      "source": [
        "!python mmsr/test.py -opt options/test/test_C2_matching.yml"
      ],
      "metadata": {
        "colab": {
          "base_uri": "https://localhost:8080/"
        },
        "id": "5x2gNY72MMvC",
        "outputId": "4a624364-2d22-4844-8ca0-e4ff243c8ab5"
      },
      "execution_count": 42,
      "outputs": [
        {
          "output_type": "stream",
          "name": "stdout",
          "text": [
            "python3: can't open file '/P24EE005_Saransh_Chourey/P24EE005_Saransh_Chourey/P24EE005_Saransh_Chourey/P24EE005_Saransh_Chourey/mmsr/models/archs/DCNv2/mmsr/test.py': [Errno 2] No such file or directory\n"
          ]
        }
      ]
    },
    {
      "cell_type": "code",
      "source": [
        "!wget <pretrained_model_link>"
      ],
      "metadata": {
        "colab": {
          "base_uri": "https://localhost:8080/"
        },
        "id": "KV1bP5VIMV87",
        "outputId": "84bfbf9e-4cf3-46a2-c573-ae2c1550af4c"
      },
      "execution_count": 43,
      "outputs": [
        {
          "output_type": "stream",
          "name": "stdout",
          "text": [
            "/bin/bash: -c: line 1: syntax error near unexpected token `newline'\n",
            "/bin/bash: -c: line 1: `wget <pretrained_model_link>'\n"
          ]
        }
      ]
    }
  ]
}