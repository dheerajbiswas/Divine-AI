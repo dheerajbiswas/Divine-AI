{
  "nbformat": 4,
  "nbformat_minor": 0,
  "metadata": {
    "colab": {
      "provenance": []
    },
    "kernelspec": {
      "name": "python3",
      "display_name": "Python 3"
    },
    "language_info": {
      "name": "python"
    }
  },
  "cells": [
    {
      "cell_type": "code",
      "execution_count": 2,
      "metadata": {
        "colab": {
          "base_uri": "https://localhost:8080/"
        },
        "id": "fi7bvfLoLSrl",
        "outputId": "9d407cae-cc3f-4d19-d95b-99e7f05a27ac"
      },
      "outputs": [
        {
          "output_type": "stream",
          "name": "stdout",
          "text": [
            "Cloning into 'P24EE005_Saransh_Chourey'...\n",
            "remote: Enumerating objects: 348, done.\u001b[K\n",
            "remote: Counting objects: 100% (348/348), done.\u001b[K\n",
            "remote: Compressing objects: 100% (334/334), done.\u001b[K\n",
            "remote: Total 348 (delta 12), reused 342 (delta 11), pack-reused 0 (from 0)\u001b[K\n",
            "Receiving objects: 100% (348/348), 30.83 MiB | 21.62 MiB/s, done.\n",
            "Resolving deltas: 100% (12/12), done.\n"
          ]
        }
      ],
      "source": [
        "!git clone https://github.com/schourey1999/P24EE005_Saransh_Chourey.git"
      ]
    },
    {
      "cell_type": "code",
      "source": [
        "from google.colab import drive\n",
        "drive.mount('/content/drive')"
      ],
      "metadata": {
        "colab": {
          "base_uri": "https://localhost:8080/"
        },
        "id": "xQQlICjBd8qS",
        "outputId": "35634a07-fa75-4a29-e36b-1727943201a1"
      },
      "execution_count": 1,
      "outputs": [
        {
          "output_type": "stream",
          "name": "stdout",
          "text": [
            "Mounted at /content/drive\n"
          ]
        }
      ]
    },
    {
      "cell_type": "code",
      "source": [
        "!conda create --name c2_matching python=3.7\n",
        "!conda activate c2_matching"
      ],
      "metadata": {
        "colab": {
          "base_uri": "https://localhost:8080/"
        },
        "id": "8-rMVma2Oetq",
        "outputId": "b042bb95-69d8-4542-b0a8-0eb2412ce477"
      },
      "execution_count": 3,
      "outputs": [
        {
          "output_type": "stream",
          "name": "stdout",
          "text": [
            "/bin/bash: line 1: conda: command not found\n",
            "/bin/bash: line 1: conda: command not found\n"
          ]
        }
      ]
    },
    {
      "cell_type": "code",
      "source": [
        "!cd P24EE005_Saransh_Chourey\n",
        "!conda install pytorch=1.4.0 torchvision cudatoolkit=10.0 -c pytorch\n",
        "!pip install mmcv==0.4.4\n",
        "!pip install -r requirements.txt"
      ],
      "metadata": {
        "colab": {
          "base_uri": "https://localhost:8080/"
        },
        "id": "uoiH4OZwbSK1",
        "outputId": "3c2f6e5e-1b05-4f4b-f54c-b4ae1d101d3b"
      },
      "execution_count": 4,
      "outputs": [
        {
          "output_type": "stream",
          "name": "stdout",
          "text": [
            "/bin/bash: line 1: conda: command not found\n",
            "Collecting mmcv==0.4.4\n",
            "  Downloading mmcv-0.4.4.tar.gz (56 kB)\n",
            "\u001b[2K     \u001b[90m━━━━━━━━━━━━━━━━━━━━━━━━━━━━━━━━━━━━━━━━\u001b[0m \u001b[32m56.6/56.6 kB\u001b[0m \u001b[31m3.2 MB/s\u001b[0m eta \u001b[36m0:00:00\u001b[0m\n",
            "\u001b[?25h  Preparing metadata (setup.py) ... \u001b[?25l\u001b[?25hdone\n",
            "Collecting addict (from mmcv==0.4.4)\n",
            "  Downloading addict-2.4.0-py3-none-any.whl.metadata (1.0 kB)\n",
            "Requirement already satisfied: numpy in /usr/local/lib/python3.10/dist-packages (from mmcv==0.4.4) (1.26.4)\n",
            "Requirement already satisfied: pyyaml in /usr/local/lib/python3.10/dist-packages (from mmcv==0.4.4) (6.0.2)\n",
            "Requirement already satisfied: opencv-python-headless>=3 in /usr/local/lib/python3.10/dist-packages (from mmcv==0.4.4) (4.10.0.84)\n",
            "Downloading addict-2.4.0-py3-none-any.whl (3.8 kB)\n",
            "Building wheels for collected packages: mmcv\n",
            "  Building wheel for mmcv (setup.py) ... \u001b[?25l\u001b[?25hdone\n",
            "  Created wheel for mmcv: filename=mmcv-0.4.4-cp310-cp310-linux_x86_64.whl size=209177 sha256=31c02f1df53c39ce8c351ab42423d77364b16f57ebca4a2a70a1586a64fb9322\n",
            "  Stored in directory: /root/.cache/pip/wheels/af/c2/e0/851e1dbb0693fcd84ac83740a54af7ebc88dd464db52846e72\n",
            "Successfully built mmcv\n",
            "Installing collected packages: addict, mmcv\n",
            "Successfully installed addict-2.4.0 mmcv-0.4.4\n",
            "\u001b[31mERROR: Could not open requirements file: [Errno 2] No such file or directory: 'requirements.txt'\u001b[0m\u001b[31m\n",
            "\u001b[0m"
          ]
        }
      ]
    },
    {
      "cell_type": "code",
      "source": [
        "!python P24EE005_Saransh_Chourey/setup.py develop\n",
        "!cd P24EE005_Saransh_Chourey/mmsr/models/archs/DCNv2\n",
        "!python P24EE005_Saransh_Chourey/setup.py build develop"
      ],
      "metadata": {
        "colab": {
          "base_uri": "https://localhost:8080/"
        },
        "id": "95Ol2d7Mbsg0",
        "outputId": "36918721-6e5b-4d7e-cbc3-24b36bb00a8e"
      },
      "execution_count": 6,
      "outputs": [
        {
          "output_type": "stream",
          "name": "stdout",
          "text": [
            "No CUDA runtime is found, using CUDA_HOME='/usr/local/cuda'\n",
            "Traceback (most recent call last):\n",
            "  File \"/content/P24EE005_Saransh_Chourey/setup.py\", line 121, in <module>\n",
            "    write_version_py()\n",
            "  File \"/content/P24EE005_Saransh_Chourey/setup.py\", line 80, in write_version_py\n",
            "    with open(version_file, 'w') as f:\n",
            "FileNotFoundError: [Errno 2] No such file or directory: 'mmsr/version.py'\n",
            "No CUDA runtime is found, using CUDA_HOME='/usr/local/cuda'\n",
            "Traceback (most recent call last):\n",
            "  File \"/content/P24EE005_Saransh_Chourey/setup.py\", line 121, in <module>\n",
            "    write_version_py()\n",
            "  File \"/content/P24EE005_Saransh_Chourey/setup.py\", line 80, in write_version_py\n",
            "    with open(version_file, 'w') as f:\n",
            "FileNotFoundError: [Errno 2] No such file or directory: 'mmsr/version.py'\n"
          ]
        }
      ]
    },
    {
      "cell_type": "code",
      "source": [
        "!P24EE005_Saransh_Chourey/options/train/stage1_teacher_contras_network.yml\n",
        "!P24EE005_Saransh_Chourey/options/train/stage2_student_contras_network.yml\n",
        "!P24EE005_Saransh_Chourey/options/train/stage3_restoration_gan.yml"
      ],
      "metadata": {
        "colab": {
          "base_uri": "https://localhost:8080/"
        },
        "id": "CqL0tJVqfSxN",
        "outputId": "c0bd8b9b-865c-4abc-e1f0-bf5081bffdc3"
      },
      "execution_count": 7,
      "outputs": [
        {
          "output_type": "stream",
          "name": "stdout",
          "text": [
            "/bin/bash: line 1: P24EE005_Saransh_Chourey/options/train/stage1_teacher_contras_network.yml: Permission denied\n",
            "/bin/bash: line 1: P24EE005_Saransh_Chourey/options/train/stage2_student_contras_network.yml: Permission denied\n",
            "/bin/bash: line 1: P24EE005_Saransh_Chourey/options/train/stage3_restoration_gan.yml: Permission denied\n"
          ]
        }
      ]
    },
    {
      "cell_type": "code",
      "source": [
        "!python P24EE005_Saransh_Chourey/mmsr/train.py -opt \"P24EE005_Saransh_Chourey/options/train/stage1_teacher_contras_network.yml\""
      ],
      "metadata": {
        "colab": {
          "base_uri": "https://localhost:8080/"
        },
        "id": "31Zvfd1vfw4Q",
        "outputId": "9e2c3eab-2641-4ad6-d95e-411ee57c07a5"
      },
      "execution_count": 9,
      "outputs": [
        {
          "output_type": "stream",
          "name": "stdout",
          "text": [
            "Traceback (most recent call last):\n",
            "  File \"/content/P24EE005_Saransh_Chourey/mmsr/train.py\", line 11, in <module>\n",
            "    from mmsr.data import create_dataloader, create_dataset\n",
            "ModuleNotFoundError: No module named 'mmsr'\n"
          ]
        }
      ]
    },
    {
      "cell_type": "code",
      "source": [
        "!P24EE005_Saransh_Chourey/options/train/stage2_student_contras_network.yml\n",
        "!python P24EE005_Saransh_Chourey/mmsr/train.py -opt \"P24EE005_Saransh_Chourey/options/train/stage2_student_contras_network.yml\""
      ],
      "metadata": {
        "colab": {
          "base_uri": "https://localhost:8080/"
        },
        "id": "xCT4s3-_gFK_",
        "outputId": "b48fbb0e-3cc9-4a1a-e1b0-f62e5f64995d"
      },
      "execution_count": 10,
      "outputs": [
        {
          "output_type": "stream",
          "name": "stdout",
          "text": [
            "/bin/bash: line 1: P24EE005_Saransh_Chourey/options/train/stage2_student_contras_network.yml: Permission denied\n",
            "Traceback (most recent call last):\n",
            "  File \"/content/P24EE005_Saransh_Chourey/mmsr/train.py\", line 11, in <module>\n",
            "    from mmsr.data import create_dataloader, create_dataset\n",
            "ModuleNotFoundError: No module named 'mmsr'\n"
          ]
        }
      ]
    },
    {
      "cell_type": "code",
      "source": [
        "!P24EE005_Saransh_Chourey/options/train/stage3_restoration_gan.yml\n",
        "!python P24EE005_Saransh_Chourey/mmsr/train.py -opt \"P24EE005_Saransh_Chourey/options/train/stage3_restoration_gan.yml\""
      ],
      "metadata": {
        "colab": {
          "base_uri": "https://localhost:8080/"
        },
        "id": "HtR4mP8Zgq0m",
        "outputId": "20e65d5d-d7e5-4782-ade2-0dd78d06d291"
      },
      "execution_count": 11,
      "outputs": [
        {
          "output_type": "stream",
          "name": "stdout",
          "text": [
            "/bin/bash: line 1: P24EE005_Saransh_Chourey/options/train/stage3_restoration_gan.yml: Permission denied\n",
            "Traceback (most recent call last):\n",
            "  File \"/content/P24EE005_Saransh_Chourey/mmsr/train.py\", line 11, in <module>\n",
            "    from mmsr.data import create_dataloader, create_dataset\n",
            "ModuleNotFoundError: No module named 'mmsr'\n"
          ]
        }
      ]
    }
  ]
}